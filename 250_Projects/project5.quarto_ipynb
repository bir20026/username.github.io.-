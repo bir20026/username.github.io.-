{
  "cells": [
    {
      "cell_type": "markdown",
      "metadata": {},
      "source": [
        "---\n",
        "title: \"Client Report - The War with Star Wars\"\n",
        "subtitle: \"Course DS 250\"\n",
        "author: \"[STUDENT NAME]\"\n",
        "format:\n",
        "  html:\n",
        "    self-contained: true\n",
        "    page-layout: full\n",
        "    title-block-banner: true\n",
        "    toc: true\n",
        "    toc-depth: 3\n",
        "    toc-location: body\n",
        "    number-sections: false\n",
        "    html-math-method: katex\n",
        "    code-fold: true\n",
        "    code-summary: \"Show the code\"\n",
        "    code-overflow: wrap\n",
        "    code-copy: hover\n",
        "    code-tools:\n",
        "        source: false\n",
        "        toggle: true\n",
        "        caption: See code\n",
        "execute: \n",
        "  warning: false\n",
        "    \n",
        "---"
      ],
      "id": "bc0f365d"
    },
    {
      "cell_type": "code",
      "metadata": {},
      "source": [
        "import pandas as pd \n",
        "import numpy as np\n",
        "from lets_plot import *\n",
        "# add the additional libraries you need to import for ML here\n",
        "\n",
        "LetsPlot.setup_html(isolated_frame=True)"
      ],
      "id": "840b78cd",
      "execution_count": null,
      "outputs": []
    },
    {
      "cell_type": "code",
      "metadata": {},
      "source": [
        "# Learn morea about Code Cells: https://quarto.org/docs/reference/cells/cells-jupyter.html\n",
        "\n",
        "# Include and execute your code here\n",
        "\n",
        "# import your data here using pandas and the URL\n"
      ],
      "id": "a25deb17",
      "execution_count": null,
      "outputs": []
    },
    {
      "cell_type": "markdown",
      "metadata": {},
      "source": [
        "## Elevator pitch\n",
        "_A SHORT (2-3 SENTENCES) PARAGRAPH THAT `DESCRIBES KEY INSIGHTS` TAKEN FROM METRICS IN THE PROJECT RESULTS THINK TOP OR MOST IMPORTANT RESULTS._ (Note: this is not a summary of the project, but a summary of the results.)\n",
        "\n",
        "_A Client has requested this analysis and this is your one shot of what you would say to your boss in a 2 min elevator ride before he takes your report and hands it to the client._\n",
        "\n",
        "## QUESTION|TASK 1\n",
        "\n",
        "__Shorten the column names and clean them up for easier use with pandas.__ Provide a table or list that exemplifies how you fixed the names. \n",
        "\n",
        "_type your results and analysis here_\n"
      ],
      "id": "54a039ef"
    },
    {
      "cell_type": "code",
      "metadata": {},
      "source": [
        "# Include and execute your code here\n"
      ],
      "id": "9ca990a1",
      "execution_count": null,
      "outputs": []
    },
    {
      "cell_type": "markdown",
      "metadata": {},
      "source": [
        "## QUESTION|TASK 2\n",
        "\n",
        "__Clean and format the data so that it can be used in a machine learning model.__ As you format the data, you should complete each item listed below. In your final report provide example(s) of the reformatted data with a short description of the changes made.  \n",
        "    a. Filter the dataset to respondents that have seen at least one film  \n",
        "    a. Create a new column that converts the age ranges to a single number. Drop the age range categorical column  \n",
        "    a. Create a new column that converts the education groupings to a single number. Drop the school categorical column  \n",
        "    a. Create a new column that converts the income ranges to a single number. Drop the income range categorical column  \n",
        "    a. Create your target (also known as “y” or “label”) column based on the new income range column  \n",
        "    a. One-hot encode all remaining categorical columns   \n",
        "\n",
        "_type your results and analysis here_\n"
      ],
      "id": "3f30c232"
    },
    {
      "cell_type": "code",
      "metadata": {},
      "source": [
        "# Include and execute your code here\n"
      ],
      "id": "e815e8df",
      "execution_count": null,
      "outputs": []
    },
    {
      "cell_type": "code",
      "metadata": {},
      "source": [
        "# Include and execute your code here\n"
      ],
      "id": "33bc9c35",
      "execution_count": null,
      "outputs": []
    },
    {
      "cell_type": "code",
      "metadata": {},
      "source": [
        "# Include and execute your code here\n"
      ],
      "id": "de15373a",
      "execution_count": null,
      "outputs": []
    },
    {
      "cell_type": "code",
      "metadata": {},
      "source": [
        "# Include and execute your code here\n"
      ],
      "id": "5218b612",
      "execution_count": null,
      "outputs": []
    },
    {
      "cell_type": "code",
      "metadata": {},
      "source": [
        "# Include and execute your code here\n"
      ],
      "id": "d0fbdb27",
      "execution_count": null,
      "outputs": []
    },
    {
      "cell_type": "code",
      "metadata": {},
      "source": [
        "# Include and execute your code here\n"
      ],
      "id": "67f9f807",
      "execution_count": null,
      "outputs": []
    },
    {
      "cell_type": "markdown",
      "metadata": {},
      "source": [
        "## QUESTION|TASK 3\n",
        "\n",
        "__Validate that the data provided on GitHub lines up with the article by recreating 2 of the visuals from the article.__  \n",
        "\n",
        "_type your results and analysis here_\n"
      ],
      "id": "4b58d640"
    },
    {
      "cell_type": "code",
      "metadata": {},
      "source": [
        "# Include and execute your code here"
      ],
      "id": "0d302edc",
      "execution_count": null,
      "outputs": []
    },
    {
      "cell_type": "code",
      "metadata": {},
      "source": [
        "# Include and execute your code here"
      ],
      "id": "7e854b12",
      "execution_count": null,
      "outputs": []
    },
    {
      "cell_type": "markdown",
      "metadata": {},
      "source": [
        "## QUESTION|TASK 4\n",
        "\n",
        "__Build a machine learning model that predicts whether a person makes more than $50k. Describe your model and report the accuracy.__ \n",
        "\n",
        "_type your results and analysis here_\n"
      ],
      "id": "36f66d6f"
    },
    {
      "cell_type": "code",
      "metadata": {},
      "source": [
        "# Include and execute your code here"
      ],
      "id": "a735e448",
      "execution_count": null,
      "outputs": []
    },
    {
      "cell_type": "markdown",
      "metadata": {},
      "source": [
        "---\n",
        "\n",
        "## STRETCH QUESTION|TASK 1\n",
        "\n",
        "__Build a machine learning model that predicts whether a person makes more than $50k. With accuracy of at least 65%. Describe your model and report the accuracy.__\n",
        "\n",
        "_type your results and analysis here_\n"
      ],
      "id": "74568f48"
    },
    {
      "cell_type": "code",
      "metadata": {},
      "source": [
        "# Include and execute your code here\n"
      ],
      "id": "09665082",
      "execution_count": null,
      "outputs": []
    },
    {
      "cell_type": "markdown",
      "metadata": {},
      "source": [
        "## STRETCH QUESTION|TASK 2\n",
        "\n",
        "__Validate the data provided on GitHub lines up with the article by recreating a 3rd visual from the article.__\n",
        "\n",
        "_type your results and analysis here_\n"
      ],
      "id": "ab6d7001"
    },
    {
      "cell_type": "code",
      "metadata": {},
      "source": [
        "# Include and execute your code here\n"
      ],
      "id": "e6ac898d",
      "execution_count": null,
      "outputs": []
    },
    {
      "cell_type": "markdown",
      "metadata": {},
      "source": [
        "## STRETCH QUESTION|TASK 3\n",
        "\n",
        "__Create a new column that converts the location groupings to a single number. Drop the location categorical column.__  \n",
        "\n",
        "_type your results and analysis here_\n"
      ],
      "id": "7582493d"
    },
    {
      "cell_type": "code",
      "metadata": {},
      "source": [
        "# Include and execute your code here\n"
      ],
      "id": "8a1a0d33",
      "execution_count": null,
      "outputs": []
    },
    {
      "cell_type": "markdown",
      "metadata": {},
      "source": [
        "---"
      ],
      "id": "b58ebd44"
    }
  ],
  "metadata": {
    "kernelspec": {
      "name": "python3",
      "language": "python",
      "display_name": "Python 3 (ipykernel)",
      "path": "C:\\Users\\reese\\AppData\\Roaming\\Python\\share\\jupyter\\kernels\\python3"
    }
  },
  "nbformat": 4,
  "nbformat_minor": 5
}