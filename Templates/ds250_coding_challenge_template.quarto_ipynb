{
  "cells": [
    {
      "cell_type": "markdown",
      "metadata": {},
      "source": [
        "---\n",
        "title: \"Coding Challenge\"\n",
        "subtitle: \"Course DS 250\"\n",
        "author: \"Student Name\"\n",
        "format:\n",
        "  html:\n",
        "    self-contained: true\n",
        "    page-layout: full\n",
        "    title-block-banner: true\n",
        "    toc: true\n",
        "    toc-depth: 3\n",
        "    toc-location: body\n",
        "    number-sections: false\n",
        "    html-math-method: katex\n",
        "    code-fold: true\n",
        "    code-summary: \"Show the code\"\n",
        "    code-overflow: wrap\n",
        "    code-copy: hover\n",
        "    code-tools:\n",
        "        source: false\n",
        "        toggle: true\n",
        "        caption: See code\n",
        "    \n",
        "---"
      ],
      "id": "fbb86a03"
    },
    {
      "cell_type": "code",
      "metadata": {},
      "source": [
        "# Read in libraries\n",
        "import pandas as pd\n",
        "import numpy as np\n",
        "from lets_plot import *\n",
        "\n",
        "LetsPlot.setup_html(isolated_frame=True)"
      ],
      "id": "154dad35",
      "execution_count": null,
      "outputs": []
    },
    {
      "cell_type": "code",
      "metadata": {},
      "source": [
        "# Read in the names data\n",
        "url = \"https://github.com/byuidatascience/data4names/raw/master/data-raw/names_year/names_year.csv\"\n",
        "names = pd.read_csv(url)"
      ],
      "id": "2f03c0f7",
      "execution_count": null,
      "outputs": []
    },
    {
      "cell_type": "markdown",
      "metadata": {},
      "source": [
        "## Question #:\n",
        "\n",
        "### [Replace with the text from question #]\n"
      ],
      "id": "8764ed02"
    },
    {
      "cell_type": "code",
      "metadata": {},
      "source": [
        "# Question # Code\n"
      ],
      "id": "8471ba12",
      "execution_count": null,
      "outputs": []
    },
    {
      "cell_type": "markdown",
      "metadata": {},
      "source": [
        "When done with a question, render it to a `.html` file and upload it for the question. Either re-downolad this template or file -> save as -> a new file name and then replace the text in the question with the new question text."
      ],
      "id": "7d8fc356"
    }
  ],
  "metadata": {
    "kernelspec": {
      "name": "python3",
      "language": "python",
      "display_name": "Python 3 (ipykernel)",
      "path": "C:\\Users\\reese\\AppData\\Roaming\\Python\\share\\jupyter\\kernels\\python3"
    }
  },
  "nbformat": 4,
  "nbformat_minor": 5
}